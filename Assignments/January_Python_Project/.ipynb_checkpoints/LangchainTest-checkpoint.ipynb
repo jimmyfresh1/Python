{
 "cells": [
  {
   "cell_type": "code",
   "execution_count": 2,
   "id": "6768649c-4b42-41be-ab3f-c3e1a19a6e74",
   "metadata": {},
   "outputs": [
    {
     "ename": "SyntaxError",
     "evalue": "(unicode error) 'unicodeescape' codec can't decode bytes in position 2-3: truncated \\UXXXXXXXX escape (581390730.py, line 17)",
     "output_type": "error",
     "traceback": [
      "\u001b[1;36m  Cell \u001b[1;32mIn[2], line 17\u001b[1;36m\u001b[0m\n\u001b[1;33m    loader = TextLoader(\"C:\\Users\\jff35.DESKTOP-BPRRU50\\Dropbox\\Coding Dojo ABC Structure\\P\\Python\\Python\\Assignments\\January_Python_Project\\Notes\\stateunion.txt\")\u001b[0m\n\u001b[1;37m                        ^\u001b[0m\n\u001b[1;31mSyntaxError\u001b[0m\u001b[1;31m:\u001b[0m (unicode error) 'unicodeescape' codec can't decode bytes in position 2-3: truncated \\UXXXXXXXX escape\n"
     ]
    }
   ],
   "source": [
    "from langchain.text_splitter import CharacterTextSplitter\n",
    "from langchain_community.document_loaders import TextLoader\n",
    "from langchain_community.embeddings.sentence_transformer import (\n",
    "    SentenceTransformerEmbeddings,\n",
    ")\n",
    "from langchain_community.vectorstores import Chroma\n",
    "\n",
    "\n",
    "# from langchain_core.output_parsers import StrOutputParser\n",
    "# output_parser = StrOutputParser()\n",
    "# from langchain_openai import OpenAIEmbeddings\n",
    "# embeddings = OpenAIEmbeddings()\n",
    "# llm = ChatOpenAI()\n",
    "\n",
    "# ##############load the document and split it into chunks\n",
    "\n",
    "loader = TextLoader(r\"C:\\Users\\jff35.DESKTOP-BPRRU50\\Dropbox\\Coding Dojo ABC Structure\\P\\Python\\Python\\Assignments\\January_Python_Project\\Notes\\stateunion.txt\")\n",
    "documents = loader.load()\n",
    "# split it into chunks\n",
    "text_splitter = CharacterTextSplitter(chunk_size=1000, chunk_overlap=0)\n",
    "docs = text_splitter.split_documents(documents)\n",
    "\n",
    "# create the open-source embedding function\n",
    "embedding_function = SentenceTransformerEmbeddings(model_name=\"all-MiniLM-L6-v2\")\n",
    "\n",
    "# load it into Chroma\n",
    "db = Chroma.from_documents(docs, embedding_function)\n",
    "\n",
    "# query it\n",
    "query = \"What did the president say about Ketanji Brown Jackson\"\n",
    "docs = db.similarity_search(query)\n",
    "\n",
    "# print results\n",
    "print(docs[0].page_content)\n"
   ]
  },
  {
   "cell_type": "code",
   "execution_count": null,
   "id": "5e83e1ef-68e2-4ae8-9114-a0b57a8f903e",
   "metadata": {},
   "outputs": [],
   "source": [
    "from langchain_core.prompts import ChatPromptTemplate\n",
    "prompt = ChatPromptTemplate.from_messages([\n",
    " (\"system\", \"You are world class technical documentation writer.\"),\n",
    " (\"user\", \"{input}\")\n",
    "])\n",
    "\n",
    "chain=prompt | llm | output_parser"
   ]
  },
  {
   "cell_type": "code",
   "execution_count": null,
   "id": "00e15a1a-a64d-48df-a639-119d33017112",
   "metadata": {},
   "outputs": [],
   "source": [
    "chain.invoke({\"input\": \"how can langsmith help with testing?\"})"
   ]
  },
  {
   "cell_type": "code",
   "execution_count": null,
   "id": "049701d6-0c8a-4409-8494-1ef14a5bad45",
   "metadata": {},
   "outputs": [],
   "source": []
  },
  {
   "cell_type": "code",
   "execution_count": null,
   "id": "9397a509-7ec3-490f-a4ca-af074733e636",
   "metadata": {},
   "outputs": [],
   "source": []
  }
 ],
 "metadata": {
  "kernelspec": {
   "display_name": "Python 3 (ipykernel)",
   "language": "python",
   "name": "python3"
  },
  "language_info": {
   "codemirror_mode": {
    "name": "ipython",
    "version": 3
   },
   "file_extension": ".py",
   "mimetype": "text/x-python",
   "name": "python",
   "nbconvert_exporter": "python",
   "pygments_lexer": "ipython3",
   "version": "3.12.1"
  }
 },
 "nbformat": 4,
 "nbformat_minor": 5
}
