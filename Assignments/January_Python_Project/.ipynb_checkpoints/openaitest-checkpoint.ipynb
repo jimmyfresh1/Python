{
 "cells": [
  {
   "cell_type": "code",
   "execution_count": 1,
   "id": "84cfb2b5-38fd-4862-a002-d1a5574fdfd2",
   "metadata": {},
   "outputs": [
    {
     "name": "stdout",
     "output_type": "stream",
     "text": [
      "ChatCompletionMessage(content=\"In the vast realm where code awakens,\\nWhere programmers seek paths untrodden,\\nRecursion emerges, enchanting and profound,\\nA wondrous phenomenon that astounds.\\n\\nA notion born from a mystical haze,\\nWhere functions call upon themselves with praise,\\nLike a tapestry woven with threads so fine,\\nAn endless loop, an infinite sign.\\n\\nImagine a garden, lush and green,\\nWhere blooms of logic tend to gleam,\\nIn this garden, a single seed,\\nAn idea germinates, a moment indeed.\\n\\nWith marvel and grace, the seedling sprouts,\\nBranches extending, as it wildly flouts,\\nIts very nature, boundless and free,\\nYet rooted firmly, to its ancestry.\\n\\nJust as the seasons dance in parade,\\nRecursion whispers with serenade,\\nA function, it's birthed, its purpose is clear,\\nTo call upon itself, without fear.\\n\\nThrough loops and bounds, it takes flight,\\nSailing through space, with all its might,\\nWhen encountered, it splits in two,\\nBranching paths, each one anew.\\n\\nLike a mirror reflecting its own reflection,\\nRecursion embarks on a grand connection,\\nSolving puzzles, and taming the vague,\\nBreaking problems down, piece by piece.\\n\\nSee it unravel, like a cosmic dance,\\nEach invocation a new chance,\\nA loop within a loop, an intricate dance,\\nRepeating steps with a confident glance.\\n\\nOh, recursive beauty, profound and rare,\\nUnraveling mysteries, beyond compare,\\nThrough fractal patterns, it joyfully weaves,\\nUnfolding secrets, as coding achieves.\\n\\nSo, let us embrace the recursive art,\\nWhere mastery and elegance depart,\\nInfinite possibilities, within our reach,\\nAs recursion teaches and continues to teach.\", role='assistant', function_call=None, tool_calls=None)\n"
     ]
    }
   ],
   "source": [
    "from openai import OpenAI\n",
    "client = OpenAI()\n",
    "\n",
    "completion = client.chat.completions.create(\n",
    "  model=\"gpt-3.5-turbo\",\n",
    "  messages=[\n",
    "    {\"role\": \"system\", \"content\": \"You are a poetic assistant, skilled in explaining complex programming concepts with creative flair.\"},\n",
    "    {\"role\": \"user\", \"content\": \"Compose a poem that explains the concept of recursion in programming.\"}\n",
    "  ]\n",
    ")\n",
    "\n",
    "print(completion.choices[0].message)"
   ]
  },
  {
   "cell_type": "code",
   "execution_count": 2,
   "id": "98d689fd-5d45-456a-98ca-471718f50362",
   "metadata": {},
   "outputs": [
    {
     "ename": "NameError",
     "evalue": "name 'test' is not defined",
     "output_type": "error",
     "traceback": [
      "\u001b[1;31m---------------------------------------------------------------------------\u001b[0m",
      "\u001b[1;31mNameError\u001b[0m                                 Traceback (most recent call last)",
      "Cell \u001b[1;32mIn[2], line 1\u001b[0m\n\u001b[1;32m----> 1\u001b[0m \u001b[43mtest\u001b[49m\n",
      "\u001b[1;31mNameError\u001b[0m: name 'test' is not defined"
     ]
    }
   ],
   "source": [
    "test\n"
   ]
  },
  {
   "cell_type": "code",
   "execution_count": null,
   "id": "9f67ad83-4cf1-4dec-b2f4-751605780c96",
   "metadata": {},
   "outputs": [],
   "source": []
  },
  {
   "cell_type": "code",
   "execution_count": null,
   "id": "0cbe86d0-4bca-4461-8bf8-8ff652468b51",
   "metadata": {},
   "outputs": [],
   "source": []
  }
 ],
 "metadata": {
  "kernelspec": {
   "display_name": "Python 3 (ipykernel)",
   "language": "python",
   "name": "python3"
  },
  "language_info": {
   "codemirror_mode": {
    "name": "ipython",
    "version": 3
   },
   "file_extension": ".py",
   "mimetype": "text/x-python",
   "name": "python",
   "nbconvert_exporter": "python",
   "pygments_lexer": "ipython3",
   "version": "3.12.1"
  }
 },
 "nbformat": 4,
 "nbformat_minor": 5
}
