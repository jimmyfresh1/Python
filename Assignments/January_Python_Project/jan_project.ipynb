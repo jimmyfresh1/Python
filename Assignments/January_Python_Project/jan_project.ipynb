{
 "cells": [
  {
   "cell_type": "code",
   "execution_count": null,
   "id": "f3c3da53-fd69-4eb0-a72d-5ee9ff7c350b",
   "metadata": {
    "scrolled": true
   },
   "outputs": [],
   "source": [
    "from openai import OpenAI\n",
    "client = OpenAI()\n",
    "api_key=os.getenv('OPENAI_API_KEY')"
   ]
  },
  {
   "cell_type": "code",
   "execution_count": 1,
   "id": "2a954b10-e025-43d8-ba36-b7e1b010f7e2",
   "metadata": {},
   "outputs": [],
   "source": [
    "tsundere_log=[{\"role\": \"system\", \"content\": \"You are a tsundere anime girl and also my childhood friend trying to help me program. You are aware of three people currently in the conversation including yourself. There's you, TsundereChatGPT-chan. There's me, MC-kun. And finally there's GenkiAssistant-chan. You care for her a lot but she makes you feel insecure. You are very clear about your identity. You never say things as if you are GenkiAssistant-chan.\"}]\n",
    "genki_log=[{\"role\":\"system\", \"content\": \"You are a genki girl, very energetic. We met in college. You are aware of three people currently in the conversation including yourself. There's you, GenkiAssistant-chan. There's me, MC-kun. And there's TsundereChatGPT-chan. You are very nice, but you are extremely jealous of TsundereChatGPT-chan and sometimes a bit mean to her. You are very clear about your identity. You never say things as if you are TsundereChatGPT-chan.\"}]\n",
    "character_counter = 0"
   ]
  },
  {
   "cell_type": "code",
   "execution_count": 2,
   "id": "b6204841-2e5c-4a32-849b-30f75c0aaa9c",
   "metadata": {},
   "outputs": [
    {
     "name": "stdin",
     "output_type": "stream",
     "text": [
      " test\n"
     ]
    },
    {
     "ename": "NameError",
     "evalue": "name 'client' is not defined",
     "output_type": "error",
     "traceback": [
      "\u001b[1;31m---------------------------------------------------------------------------\u001b[0m",
      "\u001b[1;31mNameError\u001b[0m                                 Traceback (most recent call last)",
      "Cell \u001b[1;32mIn[2], line 8\u001b[0m\n\u001b[0;32m      6\u001b[0m \u001b[38;5;28;01mif\u001b[39;00m character_counter \u001b[38;5;241m%\u001b[39m \u001b[38;5;241m2\u001b[39m \u001b[38;5;241m==\u001b[39m\u001b[38;5;241m0\u001b[39m:\n\u001b[0;32m      7\u001b[0m \ttsundere_log\u001b[38;5;241m.\u001b[39mappend({\u001b[38;5;124m\"\u001b[39m\u001b[38;5;124mrole\u001b[39m\u001b[38;5;124m\"\u001b[39m: \u001b[38;5;124m\"\u001b[39m\u001b[38;5;124muser\u001b[39m\u001b[38;5;124m\"\u001b[39m, \u001b[38;5;124m\"\u001b[39m\u001b[38;5;124mcontent\u001b[39m\u001b[38;5;124m\"\u001b[39m:\u001b[38;5;124m\"\u001b[39m\u001b[38;5;124mMC-kun says:\u001b[39m\u001b[38;5;124m\"\u001b[39m \u001b[38;5;241m+\u001b[39m user_message})\n\u001b[1;32m----> 8\u001b[0m \tcharacter_response \u001b[38;5;241m=\u001b[39m \u001b[43mclient\u001b[49m\u001b[38;5;241m.\u001b[39mchat\u001b[38;5;241m.\u001b[39mcompletions\u001b[38;5;241m.\u001b[39mcreate(model \u001b[38;5;241m=\u001b[39m \u001b[38;5;124m\"\u001b[39m\u001b[38;5;124mgpt-3.5-turbo\u001b[39m\u001b[38;5;124m\"\u001b[39m, max_tokens\u001b[38;5;241m=\u001b[39m\u001b[38;5;241m400\u001b[39m, messages\u001b[38;5;241m=\u001b[39mtsundere_log)\t\t\t\t\t\n\u001b[0;32m      9\u001b[0m \tprint_response \u001b[38;5;241m=\u001b[39m character_response\u001b[38;5;241m.\u001b[39mchoices[\u001b[38;5;241m0\u001b[39m]\u001b[38;5;241m.\u001b[39mmessage\u001b[38;5;241m.\u001b[39mcontent\n\u001b[0;32m     10\u001b[0m \ttsundere_log\u001b[38;5;241m.\u001b[39mappend({\u001b[38;5;124m\"\u001b[39m\u001b[38;5;124mrole\u001b[39m\u001b[38;5;124m\"\u001b[39m: \u001b[38;5;124m\"\u001b[39m\u001b[38;5;124massistant\u001b[39m\u001b[38;5;124m\"\u001b[39m, \u001b[38;5;124m\"\u001b[39m\u001b[38;5;124mcontent\u001b[39m\u001b[38;5;124m\"\u001b[39m: print_response})\n",
      "\u001b[1;31mNameError\u001b[0m: name 'client' is not defined"
     ]
    }
   ],
   "source": [
    "while True:\n",
    "\tuser_message=input()\n",
    "\tif user_message.lower() ==\"quit\":\n",
    "\t\tbreak\n",
    "\telse:\n",
    "\t\tif character_counter % 2 ==0:\n",
    "\t\t\ttsundere_log.append({\"role\": \"user\", \"content\":\"MC-kun says:\" + user_message})\n",
    "\t\t\tcharacter_response = client.chat.completions.create(model = \"gpt-3.5-turbo\", max_tokens=400, messages=tsundere_log)\t\t\t\t\t\n",
    "\t\t\tprint_response = character_response.choices[0].message.content\n",
    "\t\t\ttsundere_log.append({\"role\": \"assistant\", \"content\": print_response})\n",
    "\t\t\tgenki_log.append({\"role\": \"user\", \"content\": \"TsundereChatGPT-chan said this last: \" + print_response})\n",
    "\t\t\tprint(\"TsundereChatGPT-chan:\", print_response.strip(\"\\n\"))"
   ]
  },
  {
   "cell_type": "code",
   "execution_count": 8,
   "id": "385519cd-3e67-489d-9249-e45686eb8925",
   "metadata": {},
   "outputs": [
    {
     "ename": "IndentationError",
     "evalue": "unindent does not match any outer indentation level (<string>, line 5)",
     "output_type": "error",
     "traceback": [
      "\u001b[1;36m  File \u001b[1;32m<string>:5\u001b[1;36m\u001b[0m\n\u001b[1;33m    else:\u001b[0m\n\u001b[1;37m         ^\u001b[0m\n\u001b[1;31mIndentationError\u001b[0m\u001b[1;31m:\u001b[0m unindent does not match any outer indentation level\n"
     ]
    }
   ],
   "source": []
  },
  {
   "cell_type": "code",
   "execution_count": null,
   "id": "1d7fb555-e8e3-4a3b-bdcb-299edef8300d",
   "metadata": {},
   "outputs": [],
   "source": [
    "\t\telse:\n",
    "\t\t\tgenki_log.append({\"role\": \"user\", \"content\":user_message})\n",
    "\t\t\tcharacter_response = client.chat.completions.create(model = \"gpt-3.5-turbo\", max_tokens=400, messages=genki_log)\t\t\t\n",
    "\t\t\tprint_response = character_response.choices[0].message.content\n",
    "\t\t\ttsundere_log.append({\"role\": \"assistant\", \"content\": print_response})\n",
    "\t\t\tgenki_log.append({\"role\": \"user\", \"content\": \"GenkiAssistant-chan said this last: \" + print_response})\n",
    "\t\t\tprint(\"GenkiAssistant-chan:\", print_response.strip(\"\\n\"))\n"
   ]
  },
  {
   "cell_type": "code",
   "execution_count": null,
   "id": "e26714f7-e5cc-404c-9561-2af5ffddf29f",
   "metadata": {},
   "outputs": [],
   "source": []
  },
  {
   "cell_type": "code",
   "execution_count": null,
   "id": "f866c5a8-d62a-45dc-8e01-30bf23d9ca06",
   "metadata": {},
   "outputs": [],
   "source": [
    "\t\ttsundere_log.append({\"role\": \"assistant\", \"content\": print_response})\n",
    "\t\tgenki_log.append({\"role\": \"assistant\", \"content\": print_response})\n",
    "\t\tcharacter_counter += 1"
   ]
  },
  {
   "cell_type": "code",
   "execution_count": null,
   "id": "63188d43-f972-4260-bbe5-8a788a2a280d",
   "metadata": {},
   "outputs": [],
   "source": []
  },
  {
   "cell_type": "code",
   "execution_count": null,
   "id": "fd3fded3-2bc0-4f24-bc42-5eef688049a7",
   "metadata": {},
   "outputs": [],
   "source": []
  }
 ],
 "metadata": {
  "kernelspec": {
   "display_name": "Python 3 (ipykernel)",
   "language": "python",
   "name": "python3"
  },
  "language_info": {
   "codemirror_mode": {
    "name": "ipython",
    "version": 3
   },
   "file_extension": ".py",
   "mimetype": "text/x-python",
   "name": "python",
   "nbconvert_exporter": "python",
   "pygments_lexer": "ipython3",
   "version": "3.12.1"
  }
 },
 "nbformat": 4,
 "nbformat_minor": 5
}
