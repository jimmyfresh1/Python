{
 "cells": [
  {
   "cell_type": "code",
   "execution_count": 2,
   "id": "84cfb2b5-38fd-4862-a002-d1a5574fdfd2",
   "metadata": {},
   "outputs": [
    {
     "name": "stdout",
     "output_type": "stream",
     "text": [
      "ChatCompletionMessage(content=\"In the realm of bits and bytes, behold!\\nA concept that's both slick and bold.\\nIt takes a brave mind to understand,\\nThe beauty of recursion, in this digital land.\\n\\nImagine a function, oh so grand,\\nThat calls itself with a firm command.\\nAn enchanting dance, a code's embrace,\\nAs it spirals down with elegant grace.\\n\\nLike a mirror within a mirror's gaze,\\nInto the depths it gracefully sways.\\nThe problem at hand, it will subdivide,\\nSolving it bit by bit, stride by stride.\\n\\nA tale of self-reflection it weaves,\\nA web of iterations, its magic perceives.\\nThe power to unravel with recursive might,\\nTackling complexity with its coding light.\\n\\nAs a fractal pattern that endlessly repeats,\\nRecursion unveils secrets, it discreetly leaks.\\nIt breaks problems into smaller domains,\\nFinding solutions where simplicity reigns.\\n\\nLike a Russian doll, nested deep inside,\\nEach layer unwrapping a truth we can't hide.\\nWith every iteration, it grows more potent,\\nUnveiling realities abundant and potent.\\n\\nBut heed my warning, O programmer dear,\\nFor recursion can lead to confusion and fear.\\nWithout a proper base case to define,\\nYou'll spiral forever, in a never-ending line.\\n\\nSo cherish this concept, wield it with care,\\nWith recursion, your code will boldly dare.\\nTo conquer problems, no matter the size,\\nAnd in the realm of programming, eternally arise.\", role='assistant', function_call=None, tool_calls=None)\n"
     ]
    }
   ],
   "source": [
    "from openai import OpenAI\n",
    "client = OpenAI()\n",
    "\n",
    "completion = client.chat.completions.create(\n",
    "  model=\"gpt-3.5-turbo\",\n",
    "  messages=[\n",
    "    {\"role\": \"system\", \"content\": \"You are a poetic assistant, skilled in explaining complex programming concepts with creative flair.\"},\n",
    "    {\"role\": \"user\", \"content\": \"Compose a poem that explains the concept of recursion in programming.\"}\n",
    "  ]\n",
    ")\n",
    "\n",
    "print(completion.choices[0].message)"
   ]
  },
  {
   "cell_type": "code",
   "execution_count": null,
   "id": "98d689fd-5d45-456a-98ca-471718f50362",
   "metadata": {},
   "outputs": [],
   "source": [
    "\n"
   ]
  },
  {
   "cell_type": "code",
   "execution_count": null,
   "id": "9f67ad83-4cf1-4dec-b2f4-751605780c96",
   "metadata": {},
   "outputs": [],
   "source": []
  },
  {
   "cell_type": "code",
   "execution_count": null,
   "id": "0cbe86d0-4bca-4461-8bf8-8ff652468b51",
   "metadata": {},
   "outputs": [],
   "source": []
  }
 ],
 "metadata": {
  "kernelspec": {
   "display_name": "Python 3 (ipykernel)",
   "language": "python",
   "name": "python3"
  },
  "language_info": {
   "codemirror_mode": {
    "name": "ipython",
    "version": 3
   },
   "file_extension": ".py",
   "mimetype": "text/x-python",
   "name": "python",
   "nbconvert_exporter": "python",
   "pygments_lexer": "ipython3",
   "version": "3.12.1"
  }
 },
 "nbformat": 4,
 "nbformat_minor": 5
}
