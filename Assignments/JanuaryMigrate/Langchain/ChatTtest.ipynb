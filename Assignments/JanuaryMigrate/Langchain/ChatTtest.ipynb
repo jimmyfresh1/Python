{
 "cells": [
  {
   "cell_type": "code",
   "execution_count": 1,
   "id": "47fcfa73-15f3-4376-89f9-8fc993bfa9fe",
   "metadata": {},
   "outputs": [
    {
     "name": "stderr",
     "output_type": "stream",
     "text": [
      "C:\\Users\\jff35.DESKTOP-BPRRU50\\.virtualenvs\\JanuaryMigrate-5ITAgWgS\\Lib\\site-packages\\langchain_core\\_api\\deprecation.py:117: LangChainDeprecationWarning: The class `langchain_community.chat_models.openai.ChatOpenAI` was deprecated in langchain-community 0.0.10 and will be removed in 0.2.0. An updated version of the class exists in the langchain-openai package and should be used instead. To use it run `pip install -U langchain-openai` and import as `from langchain_openai import ChatOpenAI`.\n",
      "  warn_deprecated(\n",
      "C:\\Users\\jff35.DESKTOP-BPRRU50\\.virtualenvs\\JanuaryMigrate-5ITAgWgS\\Lib\\site-packages\\langchain_core\\_api\\deprecation.py:117: LangChainDeprecationWarning: The function `__call__` was deprecated in LangChain 0.1.7 and will be removed in 0.2.0. Use invoke instead.\n",
      "  warn_deprecated(\n"
     ]
    },
    {
     "data": {
      "text/plain": [
       "AIMessage(content='If you like tomatoes, there are numerous delicious dishes you can try. Here are a few suggestions:\\n\\n1. Caprese Salad: Combine fresh tomatoes, mozzarella cheese, basil leaves, olive oil, and balsamic vinegar for a classic and refreshing salad.\\n2. Tomato Bruschetta: Toasted bread topped with diced tomatoes, garlic, basil, and a drizzle of olive oil makes for a tasty appetizer.\\n3. Tomato Soup: Enjoy a comforting bowl of tomato soup, either homemade or store-bought, and pair it with some crusty bread.\\n4. Margherita Pizza: Top a pizza base with tomato sauce, fresh basil leaves, mozzarella cheese, and sliced tomatoes for a delicious and simple pizza.\\n5. Tomato Pasta: Prepare a pasta dish with a tomato-based sauce, such as marinara or arrabbiata, and add your favorite ingredients like vegetables or meat.\\n\\nThese are just a few ideas, but there are many other tomato-based recipes out there. Feel free to experiment and get creative in the kitchen!')"
      ]
     },
     "execution_count": 1,
     "metadata": {},
     "output_type": "execute_result"
    }
   ],
   "source": [
    "from langchain_openai import ChatOpenAI\n",
    "from langchain_openai import OpenAIEmbeddings\n",
    "from langchain.chat_models import ChatOpenAI\n",
    "from langchain.schema import HumanMessage\n",
    "from langchain.schema import SystemMessage\n",
    "from langchain.schema import AIMessage\n",
    "embeddings = OpenAIEmbeddings()\n",
    "from langchain_core.output_parsers import StrOutputParser\n",
    "from langchain_community.vectorstores import FAISS\n",
    "from langchain.text_splitter import RecursiveCharacterTextSplitter\n",
    "chat = ChatOpenAI(temperature=0.9)\n",
    "output_parser = StrOutputParser()\n",
    "from langchain.globals import set_verbose\n",
    "set_verbose(True)\n",
    "\n",
    "chat(\n",
    " [\n",
    "  SystemMessage(content=\"You are a nice AI bot.\"),\n",
    "  HumanMessage(content=\"I like tomatoes, what should I eat?\")\n",
    " ]\n",
    ")\n",
    "# from langchain_community.document_loaders import WebBaseLoader\n",
    "# loader = WebBaseLoader(\"https://docs.smith.langchain.com/overview\")\n",
    "# docs = loader.load()\n",
    "# text_splitter = RecursiveCharacterTextSplitter()\n",
    "# documents = text_splitter.split_documents(docs)\n",
    "# vector = FAISS.from_documents(documents, embeddings)\n",
    "\n",
    "\n",
    "# from langchain_core.prompts import ChatPromptTemplate\n",
    "# from langchain.chains.combine_documents import create_stuff_documents_chain\n",
    "# prompt = ChatPromptTemplate.from_template(\"\"\"Answer the following question based only on the provided context:\n",
    "# <context>\n",
    "# {context}\n",
    "# </context>\n",
    "# Question: {input}\"\"\")\n",
    "# document_chain = create_stuff_documents_chain(llm, prompt)\n",
    "# from langchain.chains import create_retrieval_chain\n",
    "# retriever = vector.as_retriever()\n",
    "# retrieval_chain = create_retrieval_chain(retriever, document_chain)\n",
    "\n",
    "# response = retrieval_chain.invoke({\"input\": \"how can langsmith help with testing?\"})\n",
    "# print(response[\"answer\"])\n"
   ]
  },
  {
   "cell_type": "code",
   "execution_count": null,
   "id": "627567ce-b93c-4359-b1af-1ed4e8834d72",
   "metadata": {},
   "outputs": [],
   "source": []
  }
 ],
 "metadata": {
  "kernelspec": {
   "display_name": "Python 3.11 (cutetsun)",
   "language": "python",
   "name": "cutetsun"
  },
  "language_info": {
   "codemirror_mode": {
    "name": "ipython",
    "version": 3
   },
   "file_extension": ".py",
   "mimetype": "text/x-python",
   "name": "python",
   "nbconvert_exporter": "python",
   "pygments_lexer": "ipython3",
   "version": "3.11.7"
  }
 },
 "nbformat": 4,
 "nbformat_minor": 5
}
