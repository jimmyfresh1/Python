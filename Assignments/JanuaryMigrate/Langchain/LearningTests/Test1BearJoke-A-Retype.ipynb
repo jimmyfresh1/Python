{
 "cells": [
  {
   "cell_type": "code",
   "execution_count": 4,
   "id": "9683f7e7-b848-4d17-ac1e-8c5cad22d9bb",
   "metadata": {},
   "outputs": [
    {
     "data": {
      "text/plain": [
       "AIMessage(content=\"Why don't bears wear shoes?\\n\\nBecause they have bear feet!\")"
      ]
     },
     "execution_count": 4,
     "metadata": {},
     "output_type": "execute_result"
    }
   ],
   "source": [
    "from langchain_core.prompts import ChatPromptTemplate\n",
    "from langchain_openai import ChatOpenAI\n",
    "\n",
    "prompt = ChatPromptTemplate.from_template(\"tell me a joke about {foo}\")\n",
    "model = ChatOpenAI()\n",
    "chain = prompt | model\n",
    "chain.invoke({\"foo\":\"bears\"})"
   ]
  },
  {
   "cell_type": "code",
   "execution_count": null,
   "id": "f609f761-548c-4d9d-b04f-54b9da2df2fe",
   "metadata": {},
   "outputs": [],
   "source": []
  }
 ],
 "metadata": {
  "kernelspec": {
   "display_name": "Python 3.11 (cutetsun)",
   "language": "python",
   "name": "cutetsun"
  },
  "language_info": {
   "codemirror_mode": {
    "name": "ipython",
    "version": 3
   },
   "file_extension": ".py",
   "mimetype": "text/x-python",
   "name": "python",
   "nbconvert_exporter": "python",
   "pygments_lexer": "ipython3",
   "version": "3.11.7"
  }
 },
 "nbformat": 4,
 "nbformat_minor": 5
}
