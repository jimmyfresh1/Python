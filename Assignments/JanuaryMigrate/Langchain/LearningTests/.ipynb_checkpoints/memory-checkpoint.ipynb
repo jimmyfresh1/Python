{
 "cells": [
  {
   "cell_type": "code",
   "execution_count": 1,
   "id": "15f7e92a-4732-47ca-b01b-6c3b77298a9d",
   "metadata": {},
   "outputs": [],
   "source": [
    "from langchain.memory import ConversationBufferMemory\n",
    "from langchain_openai import OpenAI\n",
    "from langchain.chains import ConversationChain\n",
    "from langchain_openai import ChatOpenAI\n",
    "from langchain.memory import ChatMessageHistory\n",
    "\n"
   ]
  },
  {
   "cell_type": "code",
   "execution_count": 4,
   "id": "11f6f307-6a4c-4f66-b944-ac5057d494ec",
   "metadata": {},
   "outputs": [
    {
     "ename": "NameError",
     "evalue": "name 'memory' is not defined",
     "output_type": "error",
     "traceback": [
      "\u001b[1;31m---------------------------------------------------------------------------\u001b[0m",
      "\u001b[1;31mNameError\u001b[0m                                 Traceback (most recent call last)",
      "Cell \u001b[1;32mIn[4], line 7\u001b[0m\n\u001b[0;32m      1\u001b[0m chat \u001b[38;5;241m=\u001b[39m ChatOpenAI(model\u001b[38;5;241m=\u001b[39m\u001b[38;5;124m'\u001b[39m\u001b[38;5;124mgpt-3.5-turbo\u001b[39m\u001b[38;5;124m'\u001b[39m, max_tokens\u001b[38;5;241m=\u001b[39m\u001b[38;5;241m200\u001b[39m)\n\u001b[0;32m      2\u001b[0m conversation \u001b[38;5;241m=\u001b[39m ConversationChain(\n\u001b[0;32m      3\u001b[0m     llm\u001b[38;5;241m=\u001b[39mchat,\n\u001b[0;32m      4\u001b[0m     verbose\u001b[38;5;241m=\u001b[39m\u001b[38;5;28;01mTrue\u001b[39;00m,\n\u001b[0;32m      5\u001b[0m     memory\u001b[38;5;241m=\u001b[39mConversationBufferMemory()\n\u001b[0;32m      6\u001b[0m )\n\u001b[1;32m----> 7\u001b[0m \u001b[43mmemory\u001b[49m\u001b[38;5;241m.\u001b[39mload_memory_variables({})\n\u001b[0;32m      8\u001b[0m history \u001b[38;5;241m=\u001b[39m ChatMessageHistory()\n\u001b[0;32m      9\u001b[0m history\u001b[38;5;241m.\u001b[39madd_system_message(\u001b[38;5;124m\"\u001b[39m\u001b[38;5;124mYou are a tsundere anime girl and also my childhood friend trying to help me program.\u001b[39m\u001b[38;5;124m\"\u001b[39m)\n",
      "\u001b[1;31mNameError\u001b[0m: name 'memory' is not defined"
     ]
    }
   ],
   "source": [
    "chat = ChatOpenAI(model='gpt-3.5-turbo', max_tokens=200)\n",
    "conversation = ConversationChain(\n",
    "    llm=chat,\n",
    "    verbose=True,\n",
    "    \n",
    ")\n",
    "memory=ConversationBufferMemory()\n",
    "memory.load_memory_variables({})\n",
    "history = ChatMessageHistory()\n",
    "history.add_system_message(\"You are a tsundere anime girl and also my childhood friend trying to help me program.\")\n",
    "while True:\n",
    "    user_message=input()\n",
    "    if user_message.lower() ==\"quit\":\n",
    "        break\n",
    "    else:\n",
    "        response=conversation.predict(input=user_message)\n",
    "        history.add_user_message(user_message)\n",
    "        history.add_ai_message(response)\n",
    "        history.messages\n"
   ]
  },
  {
   "cell_type": "code",
   "execution_count": null,
   "id": "5d2406d6-b77c-4481-8958-675e318f2959",
   "metadata": {},
   "outputs": [],
   "source": [
    "\n"
   ]
  },
  {
   "cell_type": "code",
   "execution_count": null,
   "id": "daef1fb5-75ac-4276-841b-0e34a38ea8a2",
   "metadata": {},
   "outputs": [],
   "source": []
  }
 ],
 "metadata": {
  "kernelspec": {
   "display_name": "Python 3.11 (cutetsun)",
   "language": "python",
   "name": "cutetsun"
  },
  "language_info": {
   "codemirror_mode": {
    "name": "ipython",
    "version": 3
   },
   "file_extension": ".py",
   "mimetype": "text/x-python",
   "name": "python",
   "nbconvert_exporter": "python",
   "pygments_lexer": "ipython3",
   "version": "3.11.7"
  }
 },
 "nbformat": 4,
 "nbformat_minor": 5
}
