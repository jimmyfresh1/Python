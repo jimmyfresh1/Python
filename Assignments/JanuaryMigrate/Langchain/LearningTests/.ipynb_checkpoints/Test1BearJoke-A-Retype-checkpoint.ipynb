{
 "cells": [
  {
   "cell_type": "code",
   "execution_count": 3,
   "id": "9683f7e7-b848-4d17-ac1e-8c5cad22d9bb",
   "metadata": {},
   "outputs": [
    {
     "data": {
      "text/plain": [
       "AIMessage(content='Bears are large mammals that belong to the family Ursidae. They are found in various parts of the world, including North America, Europe, Asia, and some parts of South America. There are eight recognized species of bears: American black bear, polar bear, brown bear, Asiatic black bear, sun bear, sloth bear, Andean bear, and giant panda.\\n\\nBears are known for their stocky build, powerful limbs, and distinctive snouts. They have a broad range of sizes, with the smallest species, the sun bear, weighing around 60-140 pounds (27-64 kilograms), and the largest, the polar bear, weighing up to 1,500 pounds (680 kilograms). Their size and physical characteristics vary depending on the species and their habitat.\\n\\nBears are omnivorous animals, meaning they eat both meat and plant matter. Their diet includes a variety of foods such as berries, nuts, grasses, fish, insects, small mammals, and sometimes larger prey like deer. Some bears, like the polar bear, have adapted to primarily eat meat due to their environment.\\n\\nBears are known for their hibernation behavior. During the winter months, when food is scarce, many bear species enter a state of hibernation. They reduce their metabolic rate, lower their body temperature, and live off their stored fat reserves until spring arrives.\\n\\nBears have a significant cultural and symbolic importance in many societies. They are often featured in folklore, mythology, and even national symbols. For example, the grizzly bear is a symbol of strength and resilience in Native American cultures, while the panda bear is a symbol of peace and conservation.\\n\\nHowever, bears face numerous threats in the wild. Habitat loss, climate change, poaching, and human-wildlife conflict are some of the major challenges they encounter. Conservation efforts are essential to protect and preserve bear populations worldwide.\\n\\nIn conclusion, bears are fascinating animals that come in various shapes and sizes. They have unique adaptations, play important ecological roles, and hold cultural significance. Understanding and conserving these magnificent creatures is crucial for the balance of ecosystems and the preservation of biodiversity.')"
      ]
     },
     "execution_count": 3,
     "metadata": {},
     "output_type": "execute_result"
    }
   ],
   "source": [
    "from langchain_core.prompts import ChatPromptTemplate\n",
    "from langchain_openai import ChatOpenAI\n",
    "\n",
    "prompt = ChatPromptTemplate.from_template(\"tell me a joke about {foo}\")\n",
    "model = ChatOpenAI()\n",
    "chain = prompt | model\n",
    "chain.invoke({\"foo\":\"bears\"})"
   ]
  },
  {
   "cell_type": "code",
   "execution_count": null,
   "id": "f609f761-548c-4d9d-b04f-54b9da2df2fe",
   "metadata": {},
   "outputs": [],
   "source": []
  }
 ],
 "metadata": {
  "kernelspec": {
   "display_name": "Python 3.11 (cutetsun)",
   "language": "python",
   "name": "cutetsun"
  },
  "language_info": {
   "codemirror_mode": {
    "name": "ipython",
    "version": 3
   },
   "file_extension": ".py",
   "mimetype": "text/x-python",
   "name": "python",
   "nbconvert_exporter": "python",
   "pygments_lexer": "ipython3",
   "version": "3.11.7"
  }
 },
 "nbformat": 4,
 "nbformat_minor": 5
}
