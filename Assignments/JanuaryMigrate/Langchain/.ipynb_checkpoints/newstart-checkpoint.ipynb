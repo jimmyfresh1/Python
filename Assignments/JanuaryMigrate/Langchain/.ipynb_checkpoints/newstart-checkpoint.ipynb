{
 "cells": [
  {
   "cell_type": "code",
   "execution_count": 2,
   "id": "47fcfa73-15f3-4376-89f9-8fc993bfa9fe",
   "metadata": {},
   "outputs": [
    {
     "ename": "SyntaxError",
     "evalue": "'(' was never closed (1490258223.py, line 30)",
     "output_type": "error",
     "traceback": [
      "\u001b[1;36m  Cell \u001b[1;32mIn[2], line 30\u001b[1;36m\u001b[0m\n\u001b[1;33m    chain.invoke({\"topic\": \"ice cream\"}\u001b[0m\n\u001b[1;37m                ^\u001b[0m\n\u001b[1;31mSyntaxError\u001b[0m\u001b[1;31m:\u001b[0m '(' was never closed\n"
     ]
    }
   ],
   "source": [
    "# from langchain_openai import ChatOpenAI\n",
    "# from langchain_openai import OpenAIEmbeddings\n",
    "# from langchain.chat_models import ChatOpenAI\n",
    "# from langchain.schema import HumanMessage\n",
    "# from langchain.schema import SystemMessage\n",
    "# from langchain.schema import AIMessage\n",
    "# embeddings = OpenAIEmbeddings()\n",
    "# from langchain_core.output_parsers import StrOutputParser\n",
    "# from langchain_community.vectorstores import FAISS\n",
    "# from langchain.text_splitter import RecursiveCharacterTextSplitter\n",
    "# chat = ChatOpenAI(temperature=0.9)\n",
    "# output_parser = StrOutputParser()\n",
    "# from langchain.globals import set_verbose\n",
    "# set_verbose(True)\n",
    "# text = \"Hi! It's time for the beach!\"\n",
    "\n",
    "%pip install –upgrade –quiet langchain-core langchain-community langchain-openai\n",
    "\n",
    "\n",
    "from langchain_core.output_parsers import StrOutputParser\n",
    "from langchain_core.prompts import ChatPromptTemplate\n",
    "from langchain_openai import ChatOpenAI\n",
    "\n",
    "prompt = ChatPromptTemplate.from_template(\"tell me a short joke about {topic}\")\n",
    "model = ChatOpenAI(model=\"gpt-4\")\n",
    "output_parser = StrOutputParser()\n",
    "\n",
    "chain = prompt | model | output_parser\n",
    "\n",
    "chain.invoke({\"topic\": \"ice cream\"})\n",
    "\n",
    "\"Why don't ice creams ever get invited to parties?\\n\\nBecause they always drip when things heat up!\"\n",
    "\n",
    "\n",
    "\n",
    "\n",
    "# text_embedding = embeddings.embed_query(text)\n",
    "# print (f\"Your embedding is length {len(text_embedding)}\")\n",
    "# print(f\"Here's a sample: {text_embedding[:5]}...\")\n",
    "# # chat(\n",
    "#  [\n",
    "#   SystemMessage(content=\"You are a nice AI bot.\"),\n",
    "#   HumanMessage(content=\"I like tomatoes, what should I eat?\")\n",
    "#  ]\n",
    "# )\n",
    "# from langchain_community.document_loaders import WebBaseLoader\n",
    "# loader = WebBaseLoader(\"https://docs.smith.langchain.com/overview\")\n",
    "# docs = loader.load()\n",
    "# text_splitter = RecursiveCharacterTextSplitter()\n",
    "# documents = text_splitter.split_documents(docs)\n",
    "# vector = FAISS.from_documents(documents, embeddings)\n",
    "\n",
    "\n",
    "# from langchain_core.prompts import ChatPromptTemplate\n",
    "# from langchain.chains.combine_documents import create_stuff_documents_chain\n",
    "# prompt = ChatPromptTemplate.from_template(\"\"\"Answer the following question based only on the provided context:\n",
    "# <context>\n",
    "# {context}\n",
    "# </context>\n",
    "# Question: {input}\"\"\")\n",
    "# document_chain = create_stuff_documents_chain(llm, prompt)\n",
    "# from langchain.chains import create_retrieval_chain\n",
    "# retriever = vector.as_retriever()\n",
    "# retrieval_chain = create_retrieval_chain(retriever, document_chain)\n",
    "\n",
    "# response = retrieval_chain.invoke({\"input\": \"how can langsmith help with testing?\"})\n",
    "# print(response[\"answer\"])\n"
   ]
  },
  {
   "cell_type": "code",
   "execution_count": null,
   "id": "627567ce-b93c-4359-b1af-1ed4e8834d72",
   "metadata": {},
   "outputs": [],
   "source": []
  }
 ],
 "metadata": {
  "kernelspec": {
   "display_name": "Python 3.11 (cutetsun)",
   "language": "python",
   "name": "cutetsun"
  },
  "language_info": {
   "codemirror_mode": {
    "name": "ipython",
    "version": 3
   },
   "file_extension": ".py",
   "mimetype": "text/x-python",
   "name": "python",
   "nbconvert_exporter": "python",
   "pygments_lexer": "ipython3",
   "version": "3.11.7"
  }
 },
 "nbformat": 4,
 "nbformat_minor": 5
}
