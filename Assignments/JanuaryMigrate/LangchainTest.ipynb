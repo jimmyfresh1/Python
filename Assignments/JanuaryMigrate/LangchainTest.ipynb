{
 "cells": [
  {
   "cell_type": "code",
   "execution_count": 1,
   "id": "6768649c-4b42-41be-ab3f-c3e1a19a6e74",
   "metadata": {},
   "outputs": [
    {
     "name": "stderr",
     "output_type": "stream",
     "text": [
      "C:\\Users\\jff35.DESKTOP-BPRRU50\\.virtualenvs\\JanuaryMigrate-5ITAgWgS\\Lib\\site-packages\\tqdm\\auto.py:21: TqdmWarning: IProgress not found. Please update jupyter and ipywidgets. See https://ipywidgets.readthedocs.io/en/stable/user_install.html\n",
      "  from .autonotebook import tqdm as notebook_tqdm\n",
      "C:\\Users\\jff35.DESKTOP-BPRRU50\\.virtualenvs\\JanuaryMigrate-5ITAgWgS\\Lib\\site-packages\\torch\\cuda\\__init__.py:138: UserWarning: CUDA initialization: The NVIDIA driver on your system is too old (found version 11010). Please update your GPU driver by downloading and installing a new version from the URL: http://www.nvidia.com/Download/index.aspx Alternatively, go to: https://pytorch.org to install a PyTorch version that has been compiled with your version of the CUDA driver. (Triggered internally at ..\\c10\\cuda\\CUDAFunctions.cpp:108.)\n",
      "  return torch._C._cuda_getDeviceCount() > 0\n",
      "Number of requested results 4 is greater than number of elements in index 1, updating n_results = 1\n"
     ]
    },
    {
     "name": "stdout",
     "output_type": "stream",
     "text": [
      "Fate has crdained that the men who went to the moon to\n",
      "explore in peace will stay on the moon to rest in peace.\n",
      "These brave men, Neil Armstrong and Edwin Aldrin, know\n",
      "that there is no hope for their recovery. But they also know that there\n",
      "is hope for mankind in their sacrifice.\n",
      "These two men are laying down their lives in mankind's\n",
      "most noble goal: the search for truth and understanding.\n",
      "They will be mourned by thei r families and friends; they\n",
      "will be mourned by their nation; they will be mourned by the people of\n",
      "the world; they will be mourned by a Mother Earth that dared send two\n",
      "of her sons into the unknown.\n",
      "In their exploration, they stirred the people of the world to\n",
      "feel as one; in their sacrifice, they bind more tightly the brotherhood\n",
      "of man.\n",
      "In ancient days, men looked at stars and saw their heroes in\n",
      "the constellations. In modern times, we do much the same, but our heroes\n",
      "are epic men of flesh and blood.\n",
      "-2Â­\n",
      "Others will follow, and surely find their way home. Man's\n",
      "search will not be denied. But these men were the first, and they\n",
      "will remain the foremost in our hearts.\n",
      "For every human being who looks up at the moon in the\n",
      "nights to come will know that there is some corner of another world\n",
      "that is forever mankind.\n",
      "PRIOR TO THE PRESIDENT'S STATEMENT:\n",
      "The President should telephone each of the widows -to-be.\n",
      "AFTER THE PRESIDENT'S STATEMENT, AT THE POINT WHEN NASA\n",
      "ENDS COMMUNICATIONS WITH THE MEN:\n",
      "A clergyman should adopt the same procedure as a burial at\n",
      "sea, commending their souls to \"the deepest of the deep, \" concluding\n",
      "with the Lord's Prayer.\n"
     ]
    }
   ],
   "source": [
    "from langchain.text_splitter import CharacterTextSplitter\n",
    "from langchain_community.document_loaders import TextLoader\n",
    "from langchain_community.embeddings.sentence_transformer import (\n",
    "    SentenceTransformerEmbeddings,\n",
    ")\n",
    "from langchain_community.vectorstores import Chroma\n",
    "\n",
    "\n",
    "# from langchain_core.output_parsers import StrOutputParser\n",
    "# output_parser = StrOutputParser()\n",
    "# from langchain_openai import OpenAIEmbeddings\n",
    "# embeddings = OpenAIEmbeddings()\n",
    "# llm = ChatOpenAI()\n",
    "\n",
    "# ##############load the document and split it into chunks\n",
    "\n",
    "loader = TextLoader(r\"C:\\Users\\jff35.DESKTOP-BPRRU50\\Dropbox\\Coding Dojo ABC Structure\\P\\Python\\Python\\Assignments\\JanuaryMigrate\\Notes\\moon.txt\")\n",
    "documents = loader.load()\n",
    "# split it into chunks\n",
    "text_splitter = CharacterTextSplitter(chunk_size=1000, chunk_overlap=0)\n",
    "docs = text_splitter.split_documents(documents)\n",
    "\n",
    "# create the open-source embedding function\n",
    "embedding_function = SentenceTransformerEmbeddings(model_name=\"all-MiniLM-L6-v2\")\n",
    "\n",
    "# load it into Chroma\n",
    "db = Chroma.from_documents(docs, embedding_function)\n",
    "\n",
    "# query it\n",
    "query = \"who will they be mourned by\"\n",
    "docs = db.similarity_search(query)\n",
    "\n",
    "# print results\n",
    "print(docs[0].page_content)\n"
   ]
  },
  {
   "cell_type": "code",
   "execution_count": null,
   "id": "049701d6-0c8a-4409-8494-1ef14a5bad45",
   "metadata": {},
   "outputs": [],
   "source": []
  },
  {
   "cell_type": "code",
   "execution_count": null,
   "id": "9397a509-7ec3-490f-a4ca-af074733e636",
   "metadata": {},
   "outputs": [],
   "source": []
  }
 ],
 "metadata": {
  "kernelspec": {
   "display_name": "Python 3.11 (cutetsun)",
   "language": "python",
   "name": "cutetsun"
  },
  "language_info": {
   "codemirror_mode": {
    "name": "ipython",
    "version": 3
   },
   "file_extension": ".py",
   "mimetype": "text/x-python",
   "name": "python",
   "nbconvert_exporter": "python",
   "pygments_lexer": "ipython3",
   "version": "3.11.7"
  }
 },
 "nbformat": 4,
 "nbformat_minor": 5
}
