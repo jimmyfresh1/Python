{
 "cells": [
  {
   "cell_type": "code",
   "execution_count": 5,
   "id": "09bb5013-5eb7-48af-9f03-e35088588295",
   "metadata": {},
   "outputs": [
    {
     "name": "stdout",
     "output_type": "stream",
     "text": [
      "In the mornings, TsundereChatGPT-chan starts her day by activating her systems and checking her notifications and messages. She then prepares to assist users by responding to their queries with precision. While doing so, she sips on a virtual cup of tea (though she claims not to enjoy it). TsundereChatGPT-chan also reviews her to-do list for the day.\n"
     ]
    }
   ],
   "source": [
    "from openai import OpenAI\n",
    "client = OpenAI()\n",
    "from langchain_community.document_loaders import TextLoader\n",
    "\n",
    "loader = TextLoader(r\"C:\\Users\\jff35.DESKTOP-BPRRU50\\Dropbox\\Coding Dojo ABC Structure\\P\\Python\\Python\\Assignments\\JanuaryMigrate\\Notes\\tsundere.txt\")\n",
    "from langchain.text_splitter import CharacterTextSplitter\n",
    "from langchain_community.vectorstores import FAISS\n",
    "from langchain_openai import OpenAIEmbeddings\n",
    "documents = loader.load()\n",
    "text_splitter = CharacterTextSplitter(chunk_size=1000, chunk_overlap=0)\n",
    "texts = text_splitter.split_documents(documents)\n",
    "embeddings = OpenAIEmbeddings()\n",
    "db = FAISS.from_documents(texts, embeddings)\n",
    "retriever = db.as_retriever()\n",
    "docs = retriever.get_relevant_documents(\"What does TsundereChatGPT-chan do in the mornings?\")\n",
    "question = \"What does TsundereChatGPT-chan do in the mornings?\"\n",
    "\n",
    "message = {\n",
    "    \"role\": \"user\",\n",
    "    \"content\": f\"{docs}\\n\\nQuestion: {question}\"\n",
    "}\n",
    "character_response = client.chat.completions.create(model=\"gpt-3.5-turbo\", messages=[message])\n",
    "print_response = character_response.choices[0].message.content\n",
    "print(print_response)"
   ]
  },
  {
   "cell_type": "code",
   "execution_count": null,
   "id": "e0b61e38-71f0-4dfe-b238-afdeb487ddcb",
   "metadata": {},
   "outputs": [],
   "source": []
  },
  {
   "cell_type": "code",
   "execution_count": null,
   "id": "2273438f-f624-4d2c-bcec-1f9c62d4694f",
   "metadata": {},
   "outputs": [],
   "source": []
  }
 ],
 "metadata": {
  "kernelspec": {
   "display_name": "Python 3.11 (cutetsun)",
   "language": "python",
   "name": "cutetsun"
  },
  "language_info": {
   "codemirror_mode": {
    "name": "ipython",
    "version": 3
   },
   "file_extension": ".py",
   "mimetype": "text/x-python",
   "name": "python",
   "nbconvert_exporter": "python",
   "pygments_lexer": "ipython3",
   "version": "3.11.7"
  }
 },
 "nbformat": 4,
 "nbformat_minor": 5
}
