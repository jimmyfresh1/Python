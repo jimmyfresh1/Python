{
 "cells": [
  {
   "cell_type": "code",
   "execution_count": 1,
   "id": "09bb5013-5eb7-48af-9f03-e35088588295",
   "metadata": {},
   "outputs": [
    {
     "name": "stderr",
     "output_type": "stream",
     "text": [
      "[nltk_data] Downloading package punkt to C:\\Users\\jff35.DESKTOP-\n",
      "[nltk_data]     BPRRU50\\AppData\\Roaming\\nltk_data...\n",
      "[nltk_data]   Package punkt is already up-to-date!\n"
     ]
    },
    {
     "name": "stdout",
     "output_type": "stream",
     "text": [
      "TsundereChatGPT-chan's favorite color is aquamarine.\n"
     ]
    }
   ],
   "source": [
    "from openai import OpenAI\n",
    "client = OpenAI()\n",
    "import random\n",
    "from sklearn.metrics.pairwise import cosine_similarity\n",
    "\n",
    "import pandas as pd\n",
    "\n",
    "import numpy as np\n",
    "import nltk\n",
    "nltk.download('punkt')\n",
    "from nltk.tokenize import sent_tokenize\n",
    "def split_into_sections(text, num_sentences_per_section=5):\n",
    "    sentences = sent_tokenize(text)\n",
    "    sections = []\n",
    "    for i in range(0, len(sentences), num_sentences_per_section):\n",
    "        section = ' '.join(sentences[i:i + num_sentences_per_section])\n",
    "        sections.append(section)\n",
    "    return sections\n",
    "\n",
    "\n",
    "with open(r\"C:\\Users\\jff35.DESKTOP-BPRRU50\\Dropbox\\Coding Dojo ABC Structure\\P\\Python\\Python\\Assignments\\JanuaryMigrate\\Notes\\tsundere.txt\", \"r\") as file:\n",
    "    biography_text = file.read()\n",
    "    \n",
    "sections = split_into_sections(biography_text, num_sentences_per_section=2)\n",
    "\n",
    "\n",
    "def get_embedding(text, model=\"text-embedding-ada-002\"):\n",
    "\ttext = text.replace(\"\\n\", \" \")\n",
    "\treturn client.embeddings.create(input = [text], model=model).data[0].embedding\t\n",
    "\n",
    "def calculate_similarity(emb1, emb2):\n",
    "    # Convert lists to numpy arrays and reshape them to 2D arrays\n",
    "    emb1_array = np.array(emb1).reshape(1, -1)\n",
    "    emb2_array = np.array(emb2).reshape(1, -1)\n",
    "    return cosine_similarity(emb1_array, emb2_array)[0][0]\n",
    "\n",
    "similarity_threshold = 0.5\n",
    "\n",
    "\n",
    "question = \"What is TsundereChatGPT-chan's favorite color?\"\n",
    "question_embedding = get_embedding(question)\n",
    "data = { \"section_text\": sections,\n",
    "\t\t\"embedding\": [get_embedding(section_text) for section_text in sections]}\n",
    "df = pd.DataFrame(data)\n",
    "df[\"similarity\"] = df[\"embedding\"].apply(lambda emb: calculate_similarity(emb, question_embedding))\n",
    "relevant_sections = df[df[\"similarity\"] > similarity_threshold][\"section_text\"]\n",
    "context = ' '.join(relevant_sections.tolist())\n",
    "\n",
    "\n",
    "message = {\n",
    "    \"role\": \"user\",\n",
    "    \"content\": f\"{context}\\n\\nQuestion: {question}\"\n",
    "}\n",
    "\n",
    "\n",
    "character_response = client.chat.completions.create(model=\"gpt-3.5-turbo\", messages=[message])\n",
    "print_response = character_response.choices[0].message.content\n",
    "print(print_response)"
   ]
  },
  {
   "cell_type": "code",
   "execution_count": null,
   "id": "e0b61e38-71f0-4dfe-b238-afdeb487ddcb",
   "metadata": {},
   "outputs": [],
   "source": []
  },
  {
   "cell_type": "code",
   "execution_count": null,
   "id": "2273438f-f624-4d2c-bcec-1f9c62d4694f",
   "metadata": {},
   "outputs": [],
   "source": []
  }
 ],
 "metadata": {
  "kernelspec": {
   "display_name": "Python 3.11 (cutetsun)",
   "language": "python",
   "name": "cutetsun"
  },
  "language_info": {
   "codemirror_mode": {
    "name": "ipython",
    "version": 3
   },
   "file_extension": ".py",
   "mimetype": "text/x-python",
   "name": "python",
   "nbconvert_exporter": "python",
   "pygments_lexer": "ipython3",
   "version": "3.11.7"
  }
 },
 "nbformat": 4,
 "nbformat_minor": 5
}
